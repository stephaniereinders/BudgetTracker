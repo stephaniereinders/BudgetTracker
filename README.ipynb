{
 "cells": [
  {
   "cell_type": "markdown",
   "id": "secret-hammer",
   "metadata": {},
   "source": [
    "# BudgetTracker\n",
    "The BudgetTracker allows you to keep track of your account balance and how much you spend on different budget categories. The budget categories are Housing, Food, Car, Clothing, Entertainment, and Other.\n",
    "\n",
    "### Functionality\n",
    "- When you create a new BudgetTracker, tell it the starting balance of the account. The starting balance will then be allocated to the different budget categories.\n",
    "- View the current balance of the account and the balances of each budget category.\n",
    "- Keep track of withdrawals from the account and assign each withdrawal to a budget category.\n",
    "- Keep track of deposits to the account and allocate the deposited amount across the budget categories.\n",
    "- Log every withdrawal and deposit in the check register and save the check register to a csv file."
   ]
  },
  {
   "cell_type": "markdown",
   "id": "architectural-belgium",
   "metadata": {},
   "source": [
    "## Create an new BudgetTracker\n",
    "In real life, every time I have set up a new budget, I have started with an account that already has money in it. The BudgetTracker allows you to set the starting balance when you create an account. Let's create a new account with an initial balance of $1,259.30. "
   ]
  },
  {
   "cell_type": "code",
   "execution_count": 1,
   "id": "quantitative-transportation",
   "metadata": {},
   "outputs": [],
   "source": [
    "from helpers import BudgetTracker\n",
    "budget = BudgetTracker(starting_balance=1259.30, start_date='2020-01-05')"
   ]
  },
  {
   "cell_type": "markdown",
   "id": "early-provider",
   "metadata": {},
   "source": [
    "## View the current balance\n",
    "When we start an account, the initial balance is allocated to the budget categories as follows: 30% goes into the Housing category, 20% into Food, 25% into Car, 10% into Clothing, 10% into Entertainment, and the remaining amount, roughly 5% goes into the Other category. Now that we have an account, we can view the balance."
   ]
  },
  {
   "cell_type": "code",
   "execution_count": 2,
   "id": "worse-sentence",
   "metadata": {},
   "outputs": [
    {
     "name": "stdout",
     "output_type": "stream",
     "text": [
      "TOTAL BALANCE: $1,259.30\n",
      "-------------------------\n",
      "housing balance: $377.79\n",
      "food balance: $251.86\n",
      "car balance: $314.82\n",
      "clothing balance: $125.93\n",
      "entertainment balance: $125.93\n",
      "other balance: $62.97\n"
     ]
    }
   ],
   "source": [
    "budget.show_balance()"
   ]
  },
  {
   "cell_type": "markdown",
   "id": "static-final",
   "metadata": {},
   "source": [
    "## Budget Allocations\n",
    "We can view a pie chart that shows how the balance is assigned to budget categories."
   ]
  },
  {
   "cell_type": "code",
   "execution_count": 3,
   "id": "invalid-emperor",
   "metadata": {},
   "outputs": [
    {
     "data": {
      "image/png": "[encoded data removed]",
      "text/plain": [
       "<Figure size 432x288 with 1 Axes>"
      ]
     },
     "metadata": {},
     "output_type": "display_data"
    }
   ],
   "source": [
    "budget.show_allocations_pie_chart()"
   ]
  },
  {
   "cell_type": "markdown",
   "id": "tutorial-guide",
   "metadata": {},
   "source": [
    "## Start a check register\n",
    "Create a check register that will keep track of all of your transacation. To start with, the register will only list the current balance. Everytime you add a new transaction to the check register, it's contents will be saved in a csv file called \"check_register.csv.\" For those of you familiar with Pandas, the acct.check_register is a Pandas DataFrame. If you aren't familiar with Pandas, don't worry about this."
   ]
  },
  {
   "cell_type": "code",
   "execution_count": 4,
   "id": "brazilian-collect",
   "metadata": {},
   "outputs": [
    {
     "name": "stdout",
     "output_type": "stream",
     "text": [
      "Check register:\n",
      "   transaction_date  transaction_type budget_category  transaction_amount  \\\n",
      "0       2020-01-05  starting balance            none                   0   \n",
      "\n",
      "   current_balance  \n",
      "0           1259.3  \n"
     ]
    }
   ],
   "source": [
    "budget.start_check_register()\n",
    "budget.show_check_register()"
   ]
  },
  {
   "cell_type": "markdown",
   "id": "seventh-explorer",
   "metadata": {},
   "source": [
    "## Make a withdrawal\n",
    "When you spend money, you can log the expense as a withdrawal from your account with acct.withraw(). You enter the date of the withdrawal, which budget category you wish to use, and the withdrawal amount. The withdrawal amount will be subtracted from the total balance and the balance of the specified budget category. The transaction will be logged in the check register."
   ]
  },
  {
   "cell_type": "code",
   "execution_count": 5,
   "id": "bridal-there",
   "metadata": {},
   "outputs": [
    {
     "name": "stdout",
     "output_type": "stream",
     "text": [
      "TOTAL BALANCE: $1,224.07\n",
      "-------------------------\n",
      "housing balance: $377.79\n",
      "food balance: $216.63\n",
      "car balance: $314.82\n",
      "clothing balance: $125.93\n",
      "entertainment balance: $125.93\n",
      "other balance: $62.97\n"
     ]
    }
   ],
   "source": [
    "budget.withdraw(withdrawal_date = '2020-01-08', withdrawal_category='food', withdrawal_amount=35.23)\n",
    "budget.show_balance()"
   ]
  },
  {
   "cell_type": "code",
   "execution_count": 6,
   "id": "sustainable-mortality",
   "metadata": {},
   "outputs": [
    {
     "name": "stdout",
     "output_type": "stream",
     "text": [
      "Check register:\n",
      "   transaction_date  transaction_type budget_category  transaction_amount  \\\n",
      "0       2020-01-05  starting balance            none                0.00   \n",
      "0       2020-01-08        withdrawal            food               35.23   \n",
      "\n",
      "   current_balance  \n",
      "0          1259.30  \n",
      "0          1224.07  \n"
     ]
    }
   ],
   "source": [
    "budget.show_check_register()"
   ]
  },
  {
   "cell_type": "markdown",
   "id": "interpreted-observation",
   "metadata": {},
   "source": [
    "## Make a deposit\n",
    "Make a deposit to the account with acct.deposit(). Enter the deposit date and amount. The deposit amount will be added to the total balance of the account and divided among the budget categories using acct.allocations."
   ]
  },
  {
   "cell_type": "code",
   "execution_count": 7,
   "id": "explicit-picking",
   "metadata": {},
   "outputs": [
    {
     "name": "stdout",
     "output_type": "stream",
     "text": [
      "TOTAL BALANCE: $1,324.07\n",
      "-------------------------\n",
      "housing balance: $407.79\n",
      "food balance: $236.63\n",
      "car balance: $339.82\n",
      "clothing balance: $135.93\n",
      "entertainment balance: $135.93\n",
      "other balance: $67.97\n"
     ]
    }
   ],
   "source": [
    "budget.deposit(deposit_date = '2020-01-09', deposit_amount=100.00)\n",
    "budget.show_balance()"
   ]
  },
  {
   "cell_type": "code",
   "execution_count": 8,
   "id": "apart-latter",
   "metadata": {},
   "outputs": [
    {
     "name": "stdout",
     "output_type": "stream",
     "text": [
      "Check register:\n",
      "   transaction_date  transaction_type budget_category  transaction_amount  \\\n",
      "0       2020-01-05  starting balance            none                0.00   \n",
      "0       2020-01-08        withdrawal            food               35.23   \n",
      "0       2020-01-09           deposit             all              100.00   \n",
      "\n",
      "   current_balance  \n",
      "0          1259.30  \n",
      "0          1224.07  \n",
      "0          1324.07  \n"
     ]
    }
   ],
   "source": [
    "budget.show_check_register()"
   ]
  },
  {
   "cell_type": "markdown",
   "id": "responsible-wallace",
   "metadata": {},
   "source": [
    "## Future Functionality\n",
    "- Incorporate testing\n",
    "- Start a BudgetTracker from a current check register.\n",
    "- The current version requires that dates be in the ISO standard format: 'YYYY-MM-DD.' Add functionality to allow users to enter dates in other formats. E.g. '10-05-20', '10/05/20', 'Aug. 10, 20'.\n",
    "- Allow users to change the default budget category allocation amount.\n",
    "- Allow users to transfer money from one budget category to another.\n",
    "- Create graphs of spending by budget category and month."
   ]
  }
 ],
 "metadata": {
  "kernelspec": {
   "display_name": "Python 3",
   "language": "python",
   "name": "python3"
  },
  "language_info": {
   "codemirror_mode": {
    "name": "ipython",
    "version": 3
   },
   "file_extension": ".py",
   "mimetype": "text/x-python",
   "name": "python",
   "nbconvert_exporter": "python",
   "pygments_lexer": "ipython3",
   "version": "3.8.5"
  }
 },
 "nbformat": 4,
 "nbformat_minor": 5
}
