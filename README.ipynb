{
 "cells": [
  {
   "cell_type": "markdown",
   "id": "secret-hammer",
   "metadata": {},
   "source": [
    "# BudgetTracker\n",
    "The BudgetTracker allows you to keep track of your account balance and how much you spend on different budget categories, like housing and food."
   ]
  },
  {
   "cell_type": "code",
   "execution_count": 1,
   "id": "weekly-restoration",
   "metadata": {},
   "outputs": [],
   "source": [
    "from helpers import Account"
   ]
  },
  {
   "cell_type": "markdown",
   "id": "architectural-belgium",
   "metadata": {},
   "source": [
    "## Create an account\n",
    "In real life, every time I have set up a new budget, I have started with an account that already has money in it. The BudgetTracker allows you to set the starting balance when you create an account. Let's create a new account with an initial balance of $1,259.30. "
   ]
  },
  {
   "cell_type": "code",
   "execution_count": 2,
   "id": "quantitative-transportation",
   "metadata": {},
   "outputs": [],
   "source": [
    "acct = Account(starting_balance=1259.30, start_date='2020-01-05')"
   ]
  },
  {
   "cell_type": "markdown",
   "id": "early-provider",
   "metadata": {},
   "source": [
    "## View the current balance\n",
    "When we start an account, the initial balance is allocated to the budget categories as follows: 30% goes into the Housing category, 20% into Food, 25% into Car, 10% into Clothing, 10% into Entertainment, and the remaining amount, roughly 5% goes into the Other category. Now that we have an account, we can view the balance."
   ]
  },
  {
   "cell_type": "code",
   "execution_count": 3,
   "id": "worse-sentence",
   "metadata": {},
   "outputs": [
    {
     "name": "stdout",
     "output_type": "stream",
     "text": [
      "Total balance: $1,259.30\n",
      "housing balance: $377.79\n",
      "food balance: $251.86\n",
      "car balance: $314.82\n",
      "clothing balance: $125.93\n",
      "entertainment balance: $125.93\n",
      "other balance: $62.97\n"
     ]
    }
   ],
   "source": [
    "acct.show_balance()"
   ]
  },
  {
   "cell_type": "markdown",
   "id": "lasting-shareware",
   "metadata": {},
   "source": [
    "If you ever want to view how money will be allocated, use the command acct.allocations."
   ]
  },
  {
   "cell_type": "code",
   "execution_count": null,
   "id": "technological-folks",
   "metadata": {},
   "outputs": [],
   "source": [
    "acct.allocations"
   ]
  },
  {
   "cell_type": "code",
   "execution_count": 5,
   "id": "charged-transaction",
   "metadata": {},
   "outputs": [
    {
     "data": {
      "text/plain": [
       "1259.3"
      ]
     },
     "execution_count": 5,
     "metadata": {},
     "output_type": "execute_result"
    }
   ],
   "source": [
    "sum(acct.categories.values())"
   ]
  },
  {
   "cell_type": "markdown",
   "id": "tutorial-guide",
   "metadata": {},
   "source": [
    "## Start a check register\n",
    "Create a check register that will keep track of all of your transacation. To start with, the register will only list the current balance. Everytime you add a new transaction to the check register, it's contents will be saved in a csv file called \"check_register.csv.\" For those of you familiar with Pandas, the acct.check_register is a Pandas DataFrame. If you aren't familiar with Pandas, don't worry about this."
   ]
  },
  {
   "cell_type": "code",
   "execution_count": 6,
   "id": "brazilian-collect",
   "metadata": {},
   "outputs": [
    {
     "name": "stdout",
     "output_type": "stream",
     "text": [
      "Check register:\n",
      "   transaction_date  transaction_type budget_category  transaction_amount  \\\n",
      "0       2020-01-05  starting balance            none                   0   \n",
      "\n",
      "   current_balance  \n",
      "0           1259.3  \n"
     ]
    }
   ],
   "source": [
    "acct.start_check_register()\n",
    "acct.show_check_register()"
   ]
  },
  {
   "cell_type": "markdown",
   "id": "seventh-explorer",
   "metadata": {},
   "source": [
    "## Spend money"
   ]
  },
  {
   "cell_type": "code",
   "execution_count": 7,
   "id": "bridal-there",
   "metadata": {},
   "outputs": [
    {
     "name": "stdout",
     "output_type": "stream",
     "text": [
      "Check register:\n",
      "   transaction_date  transaction_type budget_category  transaction_amount  \\\n",
      "0       2020-01-05  starting balance            none                0.00   \n",
      "0       2020-01-08        withdrawal            food               35.23   \n",
      "\n",
      "   current_balance  \n",
      "0          1259.30  \n",
      "0          1224.07  \n"
     ]
    }
   ],
   "source": [
    "acct.withdraw(withdrawal_date = '2020-01-08', withdrawal_category='food', withdrawal_amount=35.23)\n",
    "acct.show_check_register()"
   ]
  },
  {
   "cell_type": "code",
   "execution_count": 8,
   "id": "sustainable-mortality",
   "metadata": {},
   "outputs": [
    {
     "name": "stdout",
     "output_type": "stream",
     "text": [
      "Total balance: $1,224.07\n",
      "housing balance: $377.79\n",
      "food balance: $216.63\n",
      "car balance: $314.82\n",
      "clothing balance: $125.93\n",
      "entertainment balance: $125.93\n",
      "other balance: $62.97\n"
     ]
    }
   ],
   "source": [
    "acct.show_balance()"
   ]
  },
  {
   "cell_type": "code",
   "execution_count": 10,
   "id": "buried-cancellation",
   "metadata": {},
   "outputs": [
    {
     "name": "stdout",
     "output_type": "stream",
     "text": [
      "1224.07\n"
     ]
    },
    {
     "data": {
      "text/plain": [
       "dict_values([377.79, 216.63000000000002, 314.82, 125.93, 125.93, 62.96999999999977])"
      ]
     },
     "execution_count": 10,
     "metadata": {},
     "output_type": "execute_result"
    }
   ],
   "source": [
    "print(acct.balance)\n",
    "acct.categories.values()"
   ]
  },
  {
   "cell_type": "markdown",
   "id": "interpreted-observation",
   "metadata": {},
   "source": [
    "## Deposit money"
   ]
  },
  {
   "cell_type": "code",
   "execution_count": null,
   "id": "explicit-picking",
   "metadata": {},
   "outputs": [],
   "source": [
    "acct.deposit(deposit_date = '2020-01-09', deposit_amount=100.00)\n",
    "acct.show_check_register()"
   ]
  },
  {
   "cell_type": "code",
   "execution_count": null,
   "id": "apart-latter",
   "metadata": {},
   "outputs": [],
   "source": [
    "acct.show_balance()"
   ]
  },
  {
   "cell_type": "code",
   "execution_count": null,
   "id": "palestinian-collective",
   "metadata": {},
   "outputs": [],
   "source": [
    "acct.categories.values()"
   ]
  },
  {
   "cell_type": "code",
   "execution_count": null,
   "id": "architectural-spirituality",
   "metadata": {},
   "outputs": [],
   "source": []
  }
 ],
 "metadata": {
  "kernelspec": {
   "display_name": "Python 3",
   "language": "python",
   "name": "python3"
  },
  "language_info": {
   "codemirror_mode": {
    "name": "ipython",
    "version": 3
   },
   "file_extension": ".py",
   "mimetype": "text/x-python",
   "name": "python",
   "nbconvert_exporter": "python",
   "pygments_lexer": "ipython3",
   "version": "3.8.5"
  }
 },
 "nbformat": 4,
 "nbformat_minor": 5
}
